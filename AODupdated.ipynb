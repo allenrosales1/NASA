version https://git-lfs.github.com/spec/v1
oid sha256:0368b09cb5429afc8ab2d46f9b72b1dfec29c726337e93a815bd303ee27f613e
size 37439241
